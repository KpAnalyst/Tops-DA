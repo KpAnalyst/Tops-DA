{
 "cells": [
  {
   "cell_type": "code",
   "execution_count": 9,
   "id": "86d10314-1c7d-4c4b-a922-6575d0e14a76",
   "metadata": {},
   "outputs": [
    {
     "data": {
      "text/plain": [
       "(1, 1, 1, 3)"
      ]
     },
     "execution_count": 9,
     "metadata": {},
     "output_type": "execute_result"
    }
   ],
   "source": [
    "# 1. How do you create a Numpy array from a Python list or tuple?\n",
    "import numpy as np\n",
    "arr=np.array([12,34,23],ndmin=4)\n",
    "arr.shape\n",
    "# arr1=np.array((12,45,34))\n",
    "# print(arr)"
   ]
  },
  {
   "cell_type": "code",
   "execution_count": 170,
   "id": "e9867e62-39aa-4dd0-958c-f967dfc781c4",
   "metadata": {},
   "outputs": [
    {
     "name": "stdout",
     "output_type": "stream",
     "text": [
      "[1 3 5 7 9]\n"
     ]
    }
   ],
   "source": [
    "# Shape    (tuple)\tDimensions (ndim)\tExample Output\n",
    "# (3,)\t  1D\t    [0. 0. 0.]\n",
    "# (2,3)\t  2D\t    [[0. 0. 0.] [0. 0. 0.]]\n",
    "# (2,3,4)\t  3D\t    [[[0. 0. 0. ...] [0. 0. 0. ...]] [[0. 0. 0. ...] [0. 0. 0. ...]]]\n",
    "\n",
    "# 2. What are the different ways to create Numpy arrays?\n",
    "zeros_array=np.zeros((3,))\n",
    "# print(zeros_array)\n",
    "\n",
    "ones_array =np.ones((5,3,5))\n",
    "# print(ones_array)\n",
    "\n",
    "rangee=np.arange(1,10,2)\n",
    "# print(rangee)\n",
    "\n",
    "equ_spaced=np.linspace(1,20,8)\n",
    "# print(equ_spaced)\n"
   ]
  },
  {
   "cell_type": "code",
   "execution_count": 61,
   "id": "27712f4b-e2d2-4b5a-881b-6aafa4319a9b",
   "metadata": {},
   "outputs": [
    {
     "name": "stdout",
     "output_type": "stream",
     "text": [
      "shape:  (2, 3)\n",
      "size:  6\n",
      "Data type:  int32\n"
     ]
    }
   ],
   "source": [
    "# 3. How can you check the shape, size, and data type of a Numpy\n",
    "arr = np.array([[1, 2, 3], [4, 5, 6]])\n",
    "print(\"shape: \",arr.shape)\n",
    "print(\"size: \",arr.size)\n",
    "print(\"Data type: \",arr.dtype)"
   ]
  },
  {
   "cell_type": "code",
   "execution_count": 63,
   "id": "65e9b4be-d455-447f-8aae-876de88e56bb",
   "metadata": {},
   "outputs": [
    {
     "name": "stdout",
     "output_type": "stream",
     "text": [
      "Addition: [11 22 33]\n",
      "Subtraction: [ 9 18 27]\n",
      "Multiplication: [10 40 90]\n",
      "Division: [10. 10. 10.]\n"
     ]
    }
   ],
   "source": [
    "# 6. How do you perform element-wise addition, subtraction, multiplication, and division?\n",
    "arr1 = np.array([10, 20, 30])  \n",
    "arr2 = np.array([1, 2, 3])\n",
    "print(\"Addition:\", arr1 + arr2)  \n",
    "print(\"Subtraction:\", arr1 - arr2)  \n",
    "print(\"Multiplication:\", arr1 * arr2)  \n",
    "print(\"Division:\", arr1 / arr2)"
   ]
  },
  {
   "cell_type": "code",
   "execution_count": 95,
   "id": "99584c1b-cf77-468e-afa0-825991ebb0bc",
   "metadata": {},
   "outputs": [
    {
     "name": "stdout",
     "output_type": "stream",
     "text": [
      "[[11 22 33]\n",
      " [14 25 36]]\n"
     ]
    }
   ],
   "source": [
    "# 7. What is broadcasting in Numpy, and how does it work?\n",
    "arr1 = np.array([[1, 2, 3], [4, 5, 6]])  # Shape (2,3)  \n",
    "arr2 = np.array([10, 20,30])  # Shape (1,3)\n",
    "print(arr1+arr2)"
   ]
  },
  {
   "cell_type": "code",
   "execution_count": 184,
   "id": "02e4d9ee-09e9-45ae-9c36-78d9882c79e2",
   "metadata": {},
   "outputs": [
    {
     "name": "stdout",
     "output_type": "stream",
     "text": [
      "[[10 20 30]\n",
      " [40 50 60]]\n",
      "20\n",
      "50\n",
      "[10 20 30]\n"
     ]
    }
   ],
   "source": [
    "# 8. How do you access, slice, and index elements in a Numpy array?\n",
    "arr = np.array([[10, 20, 30], [40, 50, 60]])\n",
    "print(arr)\n",
    "print(arr[0,1])\n",
    "print(arr[1,1])\n",
    "print(arr[0])"
   ]
  },
  {
   "cell_type": "code",
   "execution_count": 79,
   "id": "a75f826a-4669-4c01-ba7c-6bee0a8f81b7",
   "metadata": {},
   "outputs": [
    {
     "name": "stdout",
     "output_type": "stream",
     "text": [
      "[20 30 40]\n"
     ]
    }
   ],
   "source": [
    "arr_1d = np.array([10, 20, 30, 40, 50, 60])\n",
    "print(arr_1d[1:4])"
   ]
  },
  {
   "cell_type": "code",
   "execution_count": 186,
   "id": "d80c8b48-3ac7-46b2-a39d-5d18d8ebdc24",
   "metadata": {},
   "outputs": [
    {
     "name": "stdout",
     "output_type": "stream",
     "text": [
      "[[7 8]]\n"
     ]
    }
   ],
   "source": [
    "arr_2d = np.array([[1, 2, 3], [4, 5, 6], [7, 8, 9]])\n",
    "print(arr_2d[2:3,0:2])"
   ]
  },
  {
   "cell_type": "code",
   "execution_count": 91,
   "id": "277dabca-ce6b-4399-812c-97f59674cbc6",
   "metadata": {},
   "outputs": [
    {
     "name": "stdout",
     "output_type": "stream",
     "text": [
      "[[[1 2]\n",
      "  [3 4]]\n",
      "\n",
      " [[5 6]\n",
      "  [7 8]]]\n"
     ]
    }
   ],
   "source": [
    "arr_3d = np.array([[[1, 2], [3, 4]], \n",
    "                   [[5, 6], [7, 8]], \n",
    "                   [[9, 10], [11, 12]]])\n",
    "print(arr_3d[:2,:,:])"
   ]
  },
  {
   "cell_type": "markdown",
   "id": "37c213f9-ee2f-4c33-a5b2-cf6a0833fcbc",
   "metadata": {},
   "source": [
    "# intermidiate\n"
   ]
  },
  {
   "cell_type": "code",
   "execution_count": 190,
   "id": "e43c419d-6cd3-4d3f-9895-6e252be2bd9b",
   "metadata": {},
   "outputs": [
    {
     "name": "stdout",
     "output_type": "stream",
     "text": [
      "[[[ 0  1  2]\n",
      "  [ 3  4  5]]\n",
      "\n",
      " [[ 6  7  8]\n",
      "  [ 9 10 11]]]\n"
     ]
    }
   ],
   "source": [
    "# 1. How do you reshape an array?\n",
    "arr = np.arange(12)\n",
    "reshaped=arr.reshape(2,2,3)\n",
    "print(reshaped)"
   ]
  },
  {
   "cell_type": "code",
   "execution_count": 134,
   "id": "ab4b1762-362a-4fe0-b882-80aad44617a6",
   "metadata": {},
   "outputs": [
    {
     "data": {
      "text/plain": [
       "array([1, 2, 3, 4, 5, 6])"
      ]
     },
     "execution_count": 134,
     "metadata": {},
     "output_type": "execute_result"
    }
   ],
   "source": [
    "# 2. How do you flatten an array?\n",
    "arr = np.array([[1, 2, 3], [4, 5, 6]])\n",
    "flatt=arr.flatten()\n",
    "flatt"
   ]
  },
  {
   "cell_type": "code",
   "execution_count": 140,
   "id": "a48c8942-1945-4410-ba3e-1b628cf998bf",
   "metadata": {},
   "outputs": [
    {
     "name": "stdout",
     "output_type": "stream",
     "text": [
      "[[1 4]\n",
      " [2 5]\n",
      " [3 6]]\n",
      "\n",
      "[[1 4]\n",
      " [2 5]\n",
      " [3 6]]\n"
     ]
    }
   ],
   "source": [
    "# 3. How do you transpose a matrix?\n",
    "arr = np.array([[1, 2, 3], [4, 5, 6]])\n",
    "transpo=arr.T\n",
    "print(transpo)\n",
    "print()\n",
    "#another method\n",
    "cov=arr.transpose()\n",
    "print(cov)"
   ]
  },
  {
   "cell_type": "code",
   "execution_count": 154,
   "id": "df13cfcd-f330-4e3d-b546-147318ea49af",
   "metadata": {},
   "outputs": [
    {
     "name": "stdout",
     "output_type": "stream",
     "text": [
      "[[1 2 3]\n",
      " [4 5 6]]\n",
      "[1 2 3 4 5 6]\n"
     ]
    }
   ],
   "source": [
    "# 4. How do you stack arrays vertically and horizontally?\n",
    "a = np.array([1, 2, 3])\n",
    "b = np.array([4, 5, 6])\n",
    "v_stack=np.vstack((a,b))\n",
    "print(v_stack)\n",
    "h_stack=np.hstack((a,b))\n",
    "print(h_stack)"
   ]
  },
  {
   "cell_type": "code",
   "execution_count": 156,
   "id": "13825a64-5865-400e-a93c-faccb8baf06d",
   "metadata": {},
   "outputs": [
    {
     "name": "stdout",
     "output_type": "stream",
     "text": [
      "[ 1  4  9 16]\n"
     ]
    }
   ],
   "source": [
    "# 6. How do you perform element-wise operations using universal functions (ufuncs)?\n",
    "arr = np.array([1, 2, 3, 4])\n",
    "sq=np.square(arr)\n",
    "print(sq)"
   ]
  },
  {
   "cell_type": "code",
   "execution_count": 158,
   "id": "6f2e3c06-8e4a-4316-afe1-f2e7410678c7",
   "metadata": {},
   "outputs": [
    {
     "name": "stdout",
     "output_type": "stream",
     "text": [
      "[25 30]\n"
     ]
    }
   ],
   "source": [
    "# 7. How do you use boolean indexing to filter arrays?\n",
    "arr = np.array([10, 15, 20, 25, 30])\n",
    "filt=arr[arr>20]\n",
    "print(filt)"
   ]
  },
  {
   "cell_type": "code",
   "execution_count": 192,
   "id": "7362cdf5-4943-45cc-94ce-cb68b64b2ecc",
   "metadata": {},
   "outputs": [
    {
     "name": "stdout",
     "output_type": "stream",
     "text": [
      "30.0\n",
      "30.0\n",
      "14.142135623730951\n"
     ]
    }
   ],
   "source": [
    "# 8. Computing Basic Statistics\n",
    "data = np.array([10, 20, 30, 40, 50])\n",
    "me_an=np.mean(data)\n",
    "me_ian=np.median(data)\n",
    "st=np.std(data)\n",
    "print(me_an)\n",
    "print(me_ian)\n",
    "print(st)"
   ]
  },
  {
   "cell_type": "code",
   "execution_count": 194,
   "id": "b266f8cb-79e3-409d-97ad-9b1f24d62003",
   "metadata": {},
   "outputs": [
    {
     "name": "stdout",
     "output_type": "stream",
     "text": [
      "[25 35 45]\n"
     ]
    }
   ],
   "source": [
    "# 9. Filtering Data Using Boolean Indexing\n",
    "data = np.array([5, 15, 25, 35, 45])\n",
    "ans=data[data>20]\n",
    "print(ans)"
   ]
  },
  {
   "cell_type": "code",
   "execution_count": null,
   "id": "0fb38b21-df98-4a00-97a5-b38a17172f0d",
   "metadata": {},
   "outputs": [],
   "source": []
  }
 ],
 "metadata": {
  "kernelspec": {
   "display_name": "Python 3 (ipykernel)",
   "language": "python",
   "name": "python3"
  },
  "language_info": {
   "codemirror_mode": {
    "name": "ipython",
    "version": 3
   },
   "file_extension": ".py",
   "mimetype": "text/x-python",
   "name": "python",
   "nbconvert_exporter": "python",
   "pygments_lexer": "ipython3",
   "version": "3.11.7"
  }
 },
 "nbformat": 4,
 "nbformat_minor": 5
}
