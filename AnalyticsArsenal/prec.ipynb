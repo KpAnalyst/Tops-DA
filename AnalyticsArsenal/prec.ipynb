{
 "cells": [
  {
   "cell_type": "code",
   "execution_count": 13,
   "id": "68ff4a03-bb11-4651-a737-459df464b64c",
   "metadata": {},
   "outputs": [
    {
     "name": "stdin",
     "output_type": "stream",
     "text": [
      "enter your marks here 72\n"
     ]
    },
    {
     "name": "stdout",
     "output_type": "stream",
     "text": [
      "your grade is C\n"
     ]
    }
   ],
   "source": [
    "inp=int(input(\"enter your marks here\"))\n",
    "if inp>= 91:\n",
    "    print(\"your grade is A\")\n",
    "elif inp>= 81:\n",
    "    print(\"your grade is B\")\n",
    "elif inp>= 71:\n",
    "    print(\"your grade is C\")\n",
    "elif inp >= 61:\n",
    "    print(\"your grade is E\")    \n",
    "elif inp >=51: \n",
    "    print(\"you are pass\")\n",
    "else:\n",
    "    print(\"you are fail\")"
   ]
  },
  {
   "cell_type": "code",
   "execution_count": null,
   "id": "363b79c4-caa9-4857-9f5a-b55c30faa9cb",
   "metadata": {},
   "outputs": [],
   "source": []
  },
  {
   "cell_type": "code",
   "execution_count": null,
   "id": "1a5c9834-c5ff-49c4-9522-32e99835c2e9",
   "metadata": {},
   "outputs": [],
   "source": []
  }
 ],
 "metadata": {
  "kernelspec": {
   "display_name": "Python 3 (ipykernel)",
   "language": "python",
   "name": "python3"
  },
  "language_info": {
   "codemirror_mode": {
    "name": "ipython",
    "version": 3
   },
   "file_extension": ".py",
   "mimetype": "text/x-python",
   "name": "python",
   "nbconvert_exporter": "python",
   "pygments_lexer": "ipython3",
   "version": "3.11.7"
  }
 },
 "nbformat": 4,
 "nbformat_minor": 5
}
