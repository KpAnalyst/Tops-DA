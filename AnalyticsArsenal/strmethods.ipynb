{
 "cells": [
  {
   "cell_type": "code",
   "execution_count": 13,
   "id": "8bdc3eb6-fc6d-47f6-a54e-6809f2880eb2",
   "metadata": {},
   "outputs": [
    {
     "name": "stdout",
     "output_type": "stream",
     "text": [
      "['alice@example.com', 'bob@example.com', 'charlie@example.com']\n"
     ]
    }
   ],
   "source": [
    "emails = [\"  Alice@example.com  \", \"BOB@EXAMPLE.COM\", \"  Charlie@Example.com\"]\n",
    "c=[]\n",
    "for email in emails:\n",
    "    clean=email.strip().lower()\n",
    "    c.append(clean)\n",
    "print(c)\n"
   ]
  },
  {
   "cell_type": "code",
   "execution_count": 25,
   "id": "5ac71eb5-dd9f-4fd5-8d1d-4e37732dff94",
   "metadata": {},
   "outputs": [
    {
     "name": "stdout",
     "output_type": "stream",
     "text": [
      "[['Laptop', 'Electronics', '1234'], ['Shirt', 'Clothing', '5678'], ['Fridge', 'Appliances', '9101']]\n"
     ]
    }
   ],
   "source": [
    "product_codes = [\"Laptop_Electronics_1234\", \"Shirt_Clothing_5678\", \"Fridge_Appliances_9101\"]\n",
    "f_P=[]\n",
    "s_p=[]\n",
    "t_p=[]\n",
    "for product in product_codes:\n",
    "    a=product.split(\"_\")\n",
    "    f_P.append(a)\n",
    "print(f_P)"
   ]
  },
  {
   "cell_type": "code",
   "execution_count": 27,
   "id": "9554314b-f832-469f-9a65-248543d310e0",
   "metadata": {},
   "outputs": [
    {
     "name": "stdout",
     "output_type": "stream",
     "text": [
      "['Laptop', 'Shirt', 'Fridge']\n",
      "['Electronics', 'Clothing', 'Appliances']\n",
      "['1234', '5678', '9101']\n"
     ]
    }
   ],
   "source": [
    "product_codes = [\"Laptop_Electronics_1234\", \"Shirt_Clothing_5678\", \"Fridge_Appliances_9101\"]\n",
    "f_p=[]\n",
    "s_p=[]\n",
    "t_p=[]\n",
    "for product in product_codes:\n",
    "    a=product.split(\"_\")\n",
    "    f_p.append(a[0])\n",
    "    s_p.append(a[1])\n",
    "    t_p.append(a[2])\n",
    "print(f_p)\n",
    "print(s_p)\n",
    "print(t_p)"
   ]
  },
  {
   "cell_type": "code",
   "execution_count": 29,
   "id": "66ab8001-f299-4375-a34e-9028a0a0333b",
   "metadata": {},
   "outputs": [
    {
     "name": "stdout",
     "output_type": "stream",
     "text": [
      "3\n"
     ]
    }
   ],
   "source": [
    "text = \"Data is the new oil. Data drives decisions. Data analytics is a growing field.\"\n",
    "a=text.lower().count(\"data\")\n",
    "print(a)"
   ]
  },
  {
   "cell_type": "code",
   "execution_count": 35,
   "id": "247b67f2-3971-4e29-be70-53ba2256d4ea",
   "metadata": {},
   "outputs": [
    {
     "name": "stdout",
     "output_type": "stream",
     "text": [
      "['6789A', '123B4']\n"
     ]
    }
   ],
   "source": [
    "id = [\"12345\", \"6789A\", \"23456\", \"78901\", \"123B4\"]\n",
    "a=[ids for ids in id if not ids.isdigit()]\n",
    "print(a)"
   ]
  },
  {
   "cell_type": "code",
   "execution_count": 39,
   "id": "f3c6312c-8c47-4af7-bcba-ce62ed24191c",
   "metadata": {},
   "outputs": [
    {
     "name": "stdout",
     "output_type": "stream",
     "text": [
      "['2024-01-01', '2024-08-21', '2024-12-31']\n"
     ]
    }
   ],
   "source": [
    "dates = [\"20240101\", \"20240821\", \"20241231\"]\n",
    "a=[date[0:4]  +\"-\"+date[4:6] + \"-\"+date[6:] for date in dates ]\n",
    "print(a)"
   ]
  },
  {
   "cell_type": "code",
   "execution_count": 41,
   "id": "8c1be3d4-16ef-493b-8ddb-193af3412364",
   "metadata": {},
   "outputs": [
    {
     "name": "stdout",
     "output_type": "stream",
     "text": [
      "['data_analysis.csv', 'summary.csv']\n"
     ]
    }
   ],
   "source": [
    "filenames = [\"data_analysis.csv\", \"report.docx\", \"summary.csv\", \"presentation.pptx\"]\n",
    "a=[filename for filename in filenames if filename.endswith(\".csv\")]\n",
    "print(a)"
   ]
  },
  {
   "cell_type": "code",
   "execution_count": 53,
   "id": "2218d006-8315-45da-ad19-c04d9fa7320c",
   "metadata": {},
   "outputs": [
    {
     "name": "stdout",
     "output_type": "stream",
     "text": [
      "{' Laptop': 2, ' Shirt': 2, ' Fridge': 1}\n"
     ]
    }
   ],
   "source": [
    "s_a = [\n",
    "    \"Sold 10 units of Laptop.\",\n",
    "    \"Sold 5 units of Shirt.\",\n",
    "    \"Sold 15 units of Laptop.\",\n",
    "    \"Sold 7 units of Fridge.\",\n",
    "    \"Sold 3 units of Shirt.\"\n",
    "]\n",
    "a={}\n",
    "for a_c in s_a:\n",
    "    b=a_c.split(\"units of\")[1].strip(\".\")\n",
    "    if b in a:\n",
    "        a[b]+=1\n",
    "    else:\n",
    "        a[b]=1\n",
    "print(a)\n",
    "    \n",
    "    "
   ]
  },
  {
   "cell_type": "code",
   "execution_count": 71,
   "id": "7532187f-580c-47df-922a-70fcb964c94e",
   "metadata": {},
   "outputs": [
    {
     "name": "stdout",
     "output_type": "stream",
     "text": [
      "1 2 3 \n",
      "1 2 3 \n",
      "1 2 3 \n",
      "1 2 3 \n",
      "1 2 3 \n",
      "1 2 3 \n",
      "1 2 3 \n",
      "1 2 3 \n",
      "1 2 3 \n",
      "1 2 3 \n"
     ]
    }
   ],
   "source": [
    "for i in range(0,10):\n",
    "    for j in range(1,4):\n",
    "        print(j,end=\" \")\n",
    "    print()"
   ]
  },
  {
   "cell_type": "code",
   "execution_count": null,
   "id": "8f05ac93-68c2-4f2c-bebe-5afb51587554",
   "metadata": {},
   "outputs": [],
   "source": []
  }
 ],
 "metadata": {
  "kernelspec": {
   "display_name": "Python 3 (ipykernel)",
   "language": "python",
   "name": "python3"
  },
  "language_info": {
   "codemirror_mode": {
    "name": "ipython",
    "version": 3
   },
   "file_extension": ".py",
   "mimetype": "text/x-python",
   "name": "python",
   "nbconvert_exporter": "python",
   "pygments_lexer": "ipython3",
   "version": "3.11.7"
  }
 },
 "nbformat": 4,
 "nbformat_minor": 5
}
